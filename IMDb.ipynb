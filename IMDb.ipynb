{
 "cells": [
  {
   "cell_type": "code",
   "execution_count": 1,
   "metadata": {},
   "outputs": [
    {
     "name": "stdout",
     "output_type": "stream",
     "text": [
      "7483\n",
      "2499\n"
     ]
    }
   ],
   "source": [
    "#Created 2 empty list to append all positive train reviews and test reviews\n",
    "reviews_train = []\n",
    "for line in open('imdb_train_pos.txt', 'r'): \n",
    "    reviews_train.append(line.strip())\n",
    "print(len(reviews_train))\n",
    "reviews_test = []\n",
    "for line in open('imdb_test_pos.txt', 'r'): \n",
    "    reviews_test.append(line.strip())\n",
    "print(len(reviews_test)) "
   ]
  },
  {
   "cell_type": "code",
   "execution_count": 2,
   "metadata": {},
   "outputs": [
    {
     "name": "stdout",
     "output_type": "stream",
     "text": [
      "15000\n",
      "5000\n"
     ]
    },
    {
     "data": {
      "text/plain": [
       "['For fans of Chris Farley, this is probably his best film. David Spade plays the perfect cynical, sarcastic yin to Farley\\'s \"Baby Huey\" yang. Farley achieves strokes of comic genius in his monologues, like the \"Let\\'s say you\\'re driving along the road with your family...\" bit, the \"Jo-Jo the Idiot Circus Boy with a pretty new pet, (his possible sale)\" speech, or the \"Glue-sniffing Guarantee fairy\" brake pad sale. The sappy moments in the film contrast sharply with Farley and Spade\\'s shenanigans. Even after many viewings, it\\'s still fun to see Farley pour everything he had into the role. \"Richard, what\\'s HAPPENING to me?!?!\"',\n",
       " \"Fantastic, Madonna at her finest, the film is funny and her acting is brilliant. It may have been made in the 80's but it has all the qualities of a modern Hollywood Block-buster. I love this film and i think its totally unique and will cheer up any droopy person within a matter of minutes. Fantastic.\"]"
      ]
     },
     "execution_count": 2,
     "metadata": {},
     "output_type": "execute_result"
    }
   ],
   "source": [
    "#append all negative train reviews and test reviews\n",
    "for line in open('imdb_train_neg.txt', 'r'):\n",
    "    reviews_train.append(line.strip())\n",
    "print(len(reviews_train))    \n",
    "for line in open('imdb_test_neg.txt', 'r'):\n",
    "    reviews_test.append(line.strip())\n",
    "print(len(reviews_test))\n",
    "reviews_train[:2]"
   ]
  },
  {
   "cell_type": "code",
   "execution_count": 3,
   "metadata": {},
   "outputs": [],
   "source": [
    "#removing punctuations and special characters\n",
    "import re\n",
    "def clean_html(sentence):\n",
    "    cleanr = re.compile('<.*?>')\n",
    "    cleantext = re.sub(cleanr, ' ', sentence)\n",
    "    return cleantext\n",
    "def clean_punc(word):\n",
    "    cleaned = re.sub(r'[?|!|\\'|#]', r'', word)\n",
    "    cleaned = re.sub(r'[.|,|)|(|\\|/]', r' ', cleaned)\n",
    "    return cleaned\n",
    "    \n",
    "    \n",
    "Html_train=[]\n",
    "for line in reviews_train:\n",
    "    Html_train.append(clean_html(line))\n",
    "\n",
    "reviews_train_clean=[]\n",
    "for line in Html_train:\n",
    "    reviews_train_clean.append(clean_punc(line))\n",
    "    \n",
    "Html_test=[]\n",
    "for line in reviews_test:\n",
    "    Html_test.append(clean_html(line))\n",
    "    \n",
    "reviews_test_clean=[]\n",
    "for line in Html_test:\n",
    "    reviews_test_clean.append(clean_punc(line))"
   ]
  },
  {
   "cell_type": "code",
   "execution_count": 4,
   "metadata": {},
   "outputs": [
    {
     "data": {
      "text/plain": [
       "['For fans of Chris Farley  this is probably his best film  David Spade plays the perfect cynical  sarcastic yin to Farleys \"Baby Huey\" yang  Farley achieves strokes of comic genius in his monologues  like the \"Lets say youre driving along the road with your family   \" bit  the \"Jo-Jo the Idiot Circus Boy with a pretty new pet   his possible sale \" speech  or the \"Glue-sniffing Guarantee fairy\" brake pad sale  The sappy moments in the film contrast sharply with Farley and Spades shenanigans  Even after many viewings  its still fun to see Farley pour everything he had into the role  \"Richard  whats HAPPENING to me\"',\n",
       " 'Fantastic  Madonna at her finest  the film is funny and her acting is brilliant  It may have been made in the 80s but it has all the qualities of a modern Hollywood Block-buster  I love this film and i think its totally unique and will cheer up any droopy person within a matter of minutes  Fantastic ']"
      ]
     },
     "execution_count": 4,
     "metadata": {},
     "output_type": "execute_result"
    }
   ],
   "source": [
    "reviews_train_clean[:2]"
   ]
  },
  {
   "cell_type": "code",
   "execution_count": 5,
   "metadata": {},
   "outputs": [
    {
     "data": {
      "text/plain": [
       "(15000, 63219)"
      ]
     },
     "execution_count": 5,
     "metadata": {},
     "output_type": "execute_result"
    }
   ],
   "source": [
    "#extarcting unique word and creating matrix for it.\n",
    "from sklearn.feature_extraction.text import CountVectorizer\n",
    "\n",
    "cv = CountVectorizer(binary=True, stop_words='english') #Stop_word would eliminates all prepositions to increase accuracy.\n",
    "cv.fit(reviews_train_clean) #added all reviews \n",
    "X = cv.transform(reviews_train_clean) #matrics 0,1.\n",
    "X_test = cv.transform(reviews_test_clean)#matrics 0,1.\n",
    "X.shape"
   ]
  },
  {
   "cell_type": "code",
   "execution_count": 6,
   "metadata": {},
   "outputs": [
    {
     "data": {
      "text/plain": [
       "(15000, 63219)"
      ]
     },
     "execution_count": 6,
     "metadata": {},
     "output_type": "execute_result"
    }
   ],
   "source": [
    "#Prevent giving weightage to repeated unique words\n",
    "from sklearn.feature_extraction.text import TfidfTransformer \n",
    "tfidf_transformer = TfidfTransformer()\n",
    "X_train_tfidf = tfidf_transformer.fit_transform(X)\n",
    "X_train_tfidf.shape #To check if the unique word length is same"
   ]
  },
  {
   "cell_type": "code",
   "execution_count": 7,
   "metadata": {},
   "outputs": [],
   "source": [
    "target = [1 if i < 7483 else 0 for i in range(15000)] #all positive train reviwers would be given 1.\n",
    "y_val = [1 if i<2499 else 0 for i in range(5000)] #all negative train reviwers would be given 0."
   ]
  },
  {
   "cell_type": "code",
   "execution_count": 8,
   "metadata": {},
   "outputs": [
    {
     "data": {
      "text/plain": [
       "0.8562"
      ]
     },
     "execution_count": 8,
     "metadata": {},
     "output_type": "execute_result"
    }
   ],
   "source": [
    "from sklearn.naive_bayes import MultinomialNB\n",
    "clf = MultinomialNB().fit(X,target)\n",
    "import numpy as np\n",
    "predicted = clf.predict(X_test)\n",
    "np.mean(predicted == y_val)"
   ]
  },
  {
   "cell_type": "code",
   "execution_count": 9,
   "metadata": {},
   "outputs": [],
   "source": [
    "from sklearn.metrics import accuracy_score, f1_score, precision_score, recall_score"
   ]
  },
  {
   "cell_type": "code",
   "execution_count": 10,
   "metadata": {},
   "outputs": [
    {
     "data": {
      "text/plain": [
       "0.856959238963118"
      ]
     },
     "execution_count": 10,
     "metadata": {},
     "output_type": "execute_result"
    }
   ],
   "source": [
    "precision_score(y_val,predicted, average='macro')"
   ]
  },
  {
   "cell_type": "code",
   "execution_count": 11,
   "metadata": {},
   "outputs": [
    {
     "data": {
      "text/plain": [
       "0.8561907769905244"
      ]
     },
     "execution_count": 11,
     "metadata": {},
     "output_type": "execute_result"
    }
   ],
   "source": [
    "recall_score(y_val,predicted, average='macro')"
   ]
  },
  {
   "cell_type": "code",
   "execution_count": 12,
   "metadata": {},
   "outputs": [
    {
     "data": {
      "text/plain": [
       "0.8561212177339824"
      ]
     },
     "execution_count": 12,
     "metadata": {},
     "output_type": "execute_result"
    }
   ],
   "source": [
    "f1_score(y_val,predicted, average='macro')"
   ]
  },
  {
   "cell_type": "code",
   "execution_count": 13,
   "metadata": {},
   "outputs": [
    {
     "data": {
      "text/plain": [
       "0.8562"
      ]
     },
     "execution_count": 13,
     "metadata": {},
     "output_type": "execute_result"
    }
   ],
   "source": [
    "accuracy_score(y_val,predicted)"
   ]
  }
 ],
 "metadata": {
  "kernelspec": {
   "display_name": "Python 3",
   "language": "python",
   "name": "python3"
  },
  "language_info": {
   "codemirror_mode": {
    "name": "ipython",
    "version": 3
   },
   "file_extension": ".py",
   "mimetype": "text/x-python",
   "name": "python",
   "nbconvert_exporter": "python",
   "pygments_lexer": "ipython3",
   "version": "3.7.5"
  }
 },
 "nbformat": 4,
 "nbformat_minor": 2
}
